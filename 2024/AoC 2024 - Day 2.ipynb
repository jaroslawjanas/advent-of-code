{
 "cells": [
  {
   "cell_type": "markdown",
   "metadata": {
    "id": "PLPtOMFkVYn7"
   },
   "source": [
    "# Advent of Code 2024"
   ]
  },
  {
   "cell_type": "markdown",
   "metadata": {
    "id": "UaMwBA4kVi4i"
   },
   "source": [
    "# Puzzle - part 1"
   ]
  },
  {
   "cell_type": "markdown",
   "metadata": {
    "id": "-Dzt9c3dVj7Y"
   },
   "source": [
    "**--- Day 2: Red-Nosed Reports ---**\n",
    "\n",
    "Fortunately, the first location The Historians want to search isn't a long walk from the Chief Historian's office.\n",
    "\n",
    "While the *Red-Nosed Reindeer nuclear fusion/fission plant* appears to contain no sign of the Chief Historian, the engineers there run up to you as soon as they see you. Apparently, they **still** talk about the time Rudolph was saved through molecular synthesis from a single electron.\n",
    "\n",
    "They're quick to add that - since you're already here - they'd really appreciate your help analyzing some unusual data from the Red-Nosed reactor. You turn to check if The Historians are waiting for you, but they seem to have already divided into groups that are currently searching every corner of the facility. You offer to help with the unusual data.\n",
    "\n",
    "The unusual data (your puzzle input) consists of many **reports**, one report per line. Each report is a list of numbers called **levels** that are separated by spaces. For example:\n",
    "\n",
    "```\n",
    "7 6 4 2 1\n",
    "1 2 7 8 9\n",
    "9 7 6 2 1\n",
    "1 3 2 4 5\n",
    "8 6 4 4 1\n",
    "1 3 6 7 9\n",
    "```\n",
    "\n",
    "This example data contains six reports each containing five levels.\n",
    "\n",
    "The engineers are trying to figure out which reports are **safe**. The Red-Nosed reactor safety systems can only tolerate levels that are either gradually increasing or gradually decreasing. So, a report only counts as safe if both of the following are true:\n",
    "\n",
    "- The levels are either **all increasing** or **all decreasing**.\n",
    "- Any two adjacent levels differ by **at least one** and **at most three**.\n",
    "  \n",
    "In the example above, the reports can be found safe or unsafe by checking those rules:\n",
    "\n",
    "- `7 6 4 2 1`: Safe because the levels are all decreasing by `1` or `2`.\n",
    "- `1 2 7 8 9`: Unsafe because `2` `7` is an increase of `5`.\n",
    "- `9 7 6 2 1`: Unsafe because `6` `2` is a decrease of `4`.\n",
    "- `1 3 2 4 5`: Unsafe because `1` `3` is increasing but `3` `2` is decreasing.\n",
    "- `8 6 4 4 1`: Unsafe because `4` `4` is neither an increase or a decrease.\n",
    "- `1 3 6 7 9`: Safe because the levels are all increasing by `1`, `2`, or `3`.\n",
    "  \n",
    "So, in this example, `2` reports are safe.\n",
    "\n",
    "Analyze the unusual data from the engineers.\n",
    "**How many reports are safe?**"
   ]
  },
  {
   "cell_type": "markdown",
   "metadata": {
    "id": "RJ_39L89YeMJ"
   },
   "source": [
    "## Input"
   ]
  },
  {
   "cell_type": "code",
   "execution_count": 90,
   "metadata": {
    "colab": {
     "base_uri": "https://localhost:8080/"
    },
    "executionInfo": {
     "elapsed": 58,
     "status": "ok",
     "timestamp": 1701818133939,
     "user": {
      "displayName": "jaroslaw janas",
      "userId": "03851081589721476818"
     },
     "user_tz": -60
    },
    "id": "zj1uuD5IYsOb",
    "outputId": "590d32c7-761b-4ed4-99c6-65368b981d54"
   },
   "outputs": [
    {
     "name": "stdout",
     "output_type": "stream",
     "text": [
      "44 47 50 51 53 54 53\n",
      "70 73 75 77 80 81 84 84\n",
      "1 3 4 7 10 13 16 20\n",
      "47 49 52 53 55 57 60 65\n",
      "69 70 71 70 71\n",
      "22 23 20 21 24 27 24\n",
      "90 92 93 94 95\n"
     ]
    }
   ],
   "source": [
    "# Load the input file\n",
    "\n",
    "with open('input - Day 2.txt', 'r') as file:\n",
    "    input = file.read()\n",
    "\n",
    "\n",
    "print(input[:139])"
   ]
  },
  {
   "cell_type": "markdown",
   "metadata": {
    "id": "66omP9mqY42O"
   },
   "source": [
    "## Input Formatting"
   ]
  },
  {
   "cell_type": "markdown",
   "metadata": {},
   "source": [
    "Right now we just have a text file with values from both lists. What we want is two arrays each containing values from only one list. First let us separate each line so that we can later iterate over each line."
   ]
  },
  {
   "cell_type": "code",
   "execution_count": 91,
   "metadata": {
    "executionInfo": {
     "elapsed": 51,
     "status": "ok",
     "timestamp": 1701818133939,
     "user": {
      "displayName": "jaroslaw janas",
      "userId": "03851081589721476818"
     },
     "user_tz": -60
    },
    "id": "znc-2HB50EVq"
   },
   "outputs": [
    {
     "name": "stdout",
     "output_type": "stream",
     "text": [
      "['44 47 50 51 53 54 53',\n",
      " '70 73 75 77 80 81 84 84',\n",
      " '1 3 4 7 10 13 16 20',\n",
      " '47 49 52 53 55 57 60 65',\n",
      " '69 70 71 70 71',\n",
      " '22 23 20 21 24 27 24',\n",
      " '90 92 93 94 95 93 94 94',\n",
      " '16 18 15 16 20',\n",
      " '47 48 51 50 55',\n",
      " '27 28 31 31 32 34']\n",
      "\n",
      "There are 1001 lines\n"
     ]
    }
   ],
   "source": [
    "from pprint import pprint\n",
    "\n",
    "input_lines = input.split('\\n')\n",
    "pprint(input_lines[:10])\n",
    "\n",
    "print(f\"\\nThere are {len(input_lines)} lines\")"
   ]
  },
  {
   "cell_type": "code",
   "execution_count": 92,
   "metadata": {},
   "outputs": [
    {
     "name": "stdout",
     "output_type": "stream",
     "text": [
      "1000\n"
     ]
    }
   ],
   "source": [
    "# Check the last line, if it's empty then let's remove it\n",
    "if input_lines[-1] == \"\":\n",
    "    del input_lines[-1]\n",
    "\n",
    "print(len(input_lines))"
   ]
  },
  {
   "cell_type": "markdown",
   "metadata": {},
   "source": [
    "We are going to change each report to a list of levels so that we can iterate over them.\n",
    "Gotta convert them to integers while we are at it."
   ]
  },
  {
   "cell_type": "code",
   "execution_count": 93,
   "metadata": {},
   "outputs": [
    {
     "name": "stdout",
     "output_type": "stream",
     "text": [
      "[[44, 47, 50, 51, 53, 54, 53],\n",
      " [70, 73, 75, 77, 80, 81, 84, 84],\n",
      " [1, 3, 4, 7, 10, 13, 16, 20],\n",
      " [47, 49, 52, 53, 55, 57, 60, 65],\n",
      " [69, 70, 71, 70, 71],\n",
      " [22, 23, 20, 21, 24, 27, 24],\n",
      " [90, 92, 93, 94, 95, 93, 94, 94],\n",
      " [16, 18, 15, 16, 20],\n",
      " [47, 48, 51, 50, 55],\n",
      " [27, 28, 31, 31, 32, 34]]\n"
     ]
    }
   ],
   "source": [
    "from pprint import pprint\n",
    "import re\n",
    "\n",
    "all_reports = []\n",
    "\n",
    "for line in input_lines:\n",
    "    levels = re.split(r\"\\s+\", line)\n",
    "\n",
    "    levels = [int(level) for level in levels]\n",
    "    all_reports.append(levels)\n",
    "\n",
    "pprint(all_reports[:10])"
   ]
  },
  {
   "cell_type": "markdown",
   "metadata": {},
   "source": [
    "## Solution"
   ]
  },
  {
   "cell_type": "markdown",
   "metadata": {},
   "source": [
    "Well this time there really is no way around it. \n",
    "We have to use nested loops, thankfully none of the reports are very long so we don't really care that it's **O(n^2)**.\n",
    "\n",
    "We will loop over **all reports** and then for each report subtract the two values and check if the change is okay.\n",
    "We will need to track the last change to know if it's **decreasing** or **increasing**.\n",
    "\n",
    "Each raport will be marked **safe** or **unsafe** in a separate list.\n"
   ]
  },
  {
   "cell_type": "code",
   "execution_count": 94,
   "metadata": {},
   "outputs": [],
   "source": [
    "def sign(number): # Returns True for positive numbers and False for negative numbers\n",
    "    if number < 0:\n",
    "        return False\n",
    "    else:\n",
    "       return True"
   ]
  },
  {
   "cell_type": "code",
   "execution_count": 95,
   "metadata": {},
   "outputs": [],
   "source": [
    "analyzed_reports = [] # 0 = unsafe | 1 = safe\n",
    "\n",
    "for report in all_reports:\n",
    "\n",
    "    safety = 1 # 0 = unsafe | 1 = safe\n",
    "\n",
    "    last_change_sign = None\n",
    "    last_level = None\n",
    "\n",
    "    for level in report:\n",
    "\n",
    "        # Skip if on the first level\n",
    "        if last_level is None:\n",
    "            last_level = level\n",
    "            continue\n",
    "\n",
    "        # Second and later levels\n",
    "        change = level - last_level\n",
    "        last_level = level # Don't forget to update last_level before you proceed\n",
    "\n",
    "        # Change if the magnitude of the change is not safe.\n",
    "        # This might exit the loop so make sure you are done with everything else.\n",
    "        # For example updating last_level (╯°□°)╯︵ ┻━┻\n",
    "        if abs(change) < 1 or abs(change) > 3:\n",
    "            safety = 0 # Unsafe\n",
    "            break\n",
    "        \n",
    "        # If on second level set last_change_sign\n",
    "        if last_change_sign is None:\n",
    "            last_change_sign = sign(change)\n",
    "            continue\n",
    "            \n",
    "\n",
    "        if sign(change) != last_change_sign:\n",
    "            safety = 0 # Unsafe\n",
    "            break\n",
    "            \n",
    "            \n",
    "    # If all levels passed all checks then the report is safe\n",
    "    analyzed_reports.append(safety)"
   ]
  },
  {
   "cell_type": "markdown",
   "metadata": {},
   "source": [
    "No just add up all the values in `safety_levels` to know how many **reports** are **safe**."
   ]
  },
  {
   "cell_type": "code",
   "execution_count": 96,
   "metadata": {},
   "outputs": [
    {
     "name": "stdout",
     "output_type": "stream",
     "text": [
      "Safe reports: 591\n"
     ]
    }
   ],
   "source": [
    "print(f\"Safe reports: {sum(analyzed_reports)}\")"
   ]
  },
  {
   "cell_type": "markdown",
   "metadata": {},
   "source": [
    "I will be honest here, this took me way more time than I though it would.\n",
    "The mistake I made was `last_change_sign` is a **boolean**, so I can't just check if the value exists like so with `if last_change_sign:` because then I am actually checking the value of the boolean. Lesson learnt, use `if last_change_sign is None` from now on."
   ]
  },
  {
   "cell_type": "markdown",
   "metadata": {},
   "source": [
    "# Puzzle - Part 2\n"
   ]
  },
  {
   "cell_type": "markdown",
   "metadata": {},
   "source": [
    "**--- Part Two ---**\n",
    "\n",
    "The engineers are surprised by the low number of safe reports until they realize they forgot to tell you about the Problem Dampener.\n",
    "\n",
    "The Problem Dampener is a reactor-mounted module that lets the reactor safety systems **tolerate a single bad level** in what would otherwise be a safe report. It's like the bad level never happened!\n",
    "\n",
    "Now, the same rules apply as before, except if removing a single level from an unsafe report would make it safe, the report instead counts as safe.\n",
    "\n",
    "More of the above example's reports are now safe:\n",
    "\n",
    "- `7 6 4 2 1`: Safe without removing any level.\n",
    "- `1 2 7 8 9`: Unsafe regardless of which level is removed.\n",
    "- `9 7 6 2 1`: Unsafe regardless of which level is removed.\n",
    "- `1 3 2 4 5`: Safe by removing the second level, `3`.\n",
    "- `8 6 4 4 1`: Safe by removing the third level, `4`.\n",
    "- `1 3 6 7 9`: Safe without removing any level.\n",
    "\n",
    "Thanks to the Problem Dampener, `4` reports are actually safe!\n",
    "\n",
    "Update your analysis by handling situations where the Problem Dampener can remove a single level from unsafe reports.\n",
    "**How many reports are now safe?**"
   ]
  },
  {
   "cell_type": "markdown",
   "metadata": {},
   "source": [
    "______________________________\n",
    "\n",
    "Okay so this will require a re-design but we can re-use some of the work from before.\n",
    "What we need is two things:\n",
    "\n",
    "- Identify if a report is **safe**.\n",
    "- Identify the numbers responsible for an unsafe change.\n",
    "\n",
    "Once we know these things we can remove each of the unsafe number are re-calculare the report until we have tried removing all unsafe numbers one by one.\n",
    "\n",
    "For a change in magnitude we only need to *mark* two numbers, but for a change in sign we need to add all three numbers.\n",
    "That is because if we have a series like this `n1 -> n2 -> n3` then the previous sign (+/-) has two components `n1` and `n2`, while the current sign's components are `n2` and `n3`.\n",
    "So we have to mark all three as potentially unsafe.\n"
   ]
  },
  {
   "cell_type": "code",
   "execution_count": 97,
   "metadata": {},
   "outputs": [],
   "source": [
    "def check_report_safety(report):\n",
    "    unsafe_indicies = set() # Using a set to avoid duplicates\n",
    "\n",
    "    safety = 1 # 0 = unsafe | 1 = safe\n",
    "\n",
    "    last_change_sign = None\n",
    "    last_level = None\n",
    "\n",
    "    for idx, level in enumerate(report):\n",
    "\n",
    "        # Skip if on the first level\n",
    "        if last_level is None:\n",
    "            last_level = level\n",
    "            continue\n",
    "\n",
    "        # Second and later levels\n",
    "        change = level - last_level\n",
    "        last_level = level # Don't forget to update last_level before you proceed\n",
    "\n",
    "        # Change if the magnitude of the change is not safe.\n",
    "        # This might exit the loop so make sure you are done with everything else.\n",
    "        # For example updating last_level (╯°□°)╯︵ ┻━┻\n",
    "        if abs(change) < 1 or abs(change) > 3:\n",
    "            safety = 0 # Unsafe\n",
    "            unsafe_indicies.add(idx)\n",
    "            unsafe_indicies.add(idx-1)\n",
    "            continue\n",
    "        \n",
    "        # If on second level set last_change_sign\n",
    "        if last_change_sign is None:\n",
    "            last_change_sign = sign(change)\n",
    "            continue\n",
    "            \n",
    "        if sign(change) != last_change_sign:\n",
    "            safety = 0 # Unsafe\n",
    "            unsafe_indicies.add(idx)\n",
    "            unsafe_indicies.add(idx-1)\n",
    "            # The sign change is actually an effect of 3 numbers\n",
    "            # |n1 <-> n2 <-> n3| so we need to add all 3 as unsafe\n",
    "            unsafe_indicies.add(abs(idx-2))\n",
    "\n",
    "            continue\n",
    "            \n",
    "            \n",
    "    # If all levels passed all checks then the report is safe\n",
    "    return safety, unsafe_indicies"
   ]
  },
  {
   "cell_type": "code",
   "execution_count": 98,
   "metadata": {},
   "outputs": [],
   "source": [
    "import copy\n",
    "\n",
    "analyzed_reports = []\n",
    "\n",
    "for report in all_reports:\n",
    "    \n",
    "    safety, unsafe_indicies = check_report_safety(report)\n",
    "\n",
    "    # if safe\n",
    "    if safety == 1:\n",
    "        analyzed_reports.append(1)\n",
    "\n",
    "    else:\n",
    "        safety_with_dampener = 0 # 0 -> unsafe | 1 -> safe\n",
    "\n",
    "        for unsafe_idx in unsafe_indicies:\n",
    "\n",
    "            dampened_report = copy.deepcopy(report) # A deep copy - a new list is created\n",
    "            del dampened_report[unsafe_idx] # Removing the unsafe index from the copy\n",
    "\n",
    "            dampened_safety, _ = check_report_safety(dampened_report)\n",
    "            \n",
    "            # If the new report is safe with a removed entry\n",
    "            if dampened_safety == 1:\n",
    "                safety_with_dampener = 1\n",
    "                break\n",
    "        \n",
    "        analyzed_reports.append(safety_with_dampener)"
   ]
  },
  {
   "cell_type": "code",
   "execution_count": 99,
   "metadata": {},
   "outputs": [
    {
     "name": "stdout",
     "output_type": "stream",
     "text": [
      "Safe reports: 621\n"
     ]
    }
   ],
   "source": [
    "print(f\"Safe reports: {sum(analyzed_reports)}\")"
   ]
  }
 ],
 "metadata": {
  "colab": {
   "authorship_tag": "ABX9TyPbu2U8ny7x54mSOJMPB39X",
   "provenance": [],
   "toc_visible": true
  },
  "kernelspec": {
   "display_name": "aoc-2024",
   "language": "python",
   "name": "python3"
  },
  "language_info": {
   "codemirror_mode": {
    "name": "ipython",
    "version": 3
   },
   "file_extension": ".py",
   "mimetype": "text/x-python",
   "name": "python",
   "nbconvert_exporter": "python",
   "pygments_lexer": "ipython3",
   "version": "3.12.8"
  }
 },
 "nbformat": 4,
 "nbformat_minor": 0
}
