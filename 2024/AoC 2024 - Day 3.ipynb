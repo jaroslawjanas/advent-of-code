{
 "cells": [
  {
   "cell_type": "markdown",
   "metadata": {
    "id": "PLPtOMFkVYn7"
   },
   "source": [
    "# Advent of Code 2024"
   ]
  },
  {
   "cell_type": "markdown",
   "metadata": {
    "id": "UaMwBA4kVi4i"
   },
   "source": [
    "# Puzzle - part 1"
   ]
  },
  {
   "cell_type": "markdown",
   "metadata": {
    "id": "-Dzt9c3dVj7Y"
   },
   "source": [
    "**--- Day 3: Mull It Over ---**\n",
    "\n",
    "\"Our computers are having issues, so I have no idea if we have any Chief Historians in stock! You're welcome to check the warehouse, though,\" says the mildly flustered shopkeeper at the *North Pole Toboggan Rental Shop*. The Historians head out to take a look.\n",
    "\n",
    "The shopkeeper turns to you. \"Any chance you can see why our computers are having issues again?\"\n",
    "\n",
    "The computer appears to be trying to run a program, but its memory (your puzzle input) is **corrupted**. All of the instructions have been jumbled up!\n",
    "\n",
    "It seems like the goal of the program is just to **multiply some numbers**. It does that with instructions like `mul(X,Y)`, where `X` and `Y` are each 1-3 digit numbers. For instance, `mul(44,46)` multiplies 44 by 46 to get a result of `2024`. Similarly, `mul(123,4)` would multiply `123` by `4`.\n",
    "\n",
    "However, because the program's memory has been corrupted, there are also many invalid characters that should be **ignored**, even if they look like part of a mul instruction. Sequences like `mul(4*`, `mul(6,9!`, `?(12,34)`, or `mul ( 2 , 4 )` do **nothing**.\n",
    "\n",
    "For example, consider the following section of corrupted memory:\n",
    "\n",
    "`x`**`mul(2,4)`**`%&mul[3,7]!@^do_not_`**`mul(5,5)`**`+mul(32,64]then(`**`mul(11,8)mul(8,5)`**`)`\n",
    "\n",
    "Only the four highlighted sections are real `mul` instructions. Adding up the result of each instruction produces **`161`** `(2*4 + 5*5 + 11*8 + 8*5)`.\n",
    "\n",
    "Scan the corrupted memory for uncorrupted mul instructions.\n",
    "**What do you get if you add up all of the results of the multiplications?**"
   ]
  },
  {
   "cell_type": "markdown",
   "metadata": {
    "id": "RJ_39L89YeMJ"
   },
   "source": [
    "## Input"
   ]
  },
  {
   "cell_type": "code",
   "execution_count": 19,
   "metadata": {
    "colab": {
     "base_uri": "https://localhost:8080/"
    },
    "executionInfo": {
     "elapsed": 58,
     "status": "ok",
     "timestamp": 1701818133939,
     "user": {
      "displayName": "jaroslaw janas",
      "userId": "03851081589721476818"
     },
     "user_tz": -60
    },
    "id": "zj1uuD5IYsOb",
    "outputId": "590d32c7-761b-4ed4-99c6-65368b981d54"
   },
   "outputs": [
    {
     "name": "stdout",
     "output_type": "stream",
     "text": [
      "(who()where()''~[how()'&do()why()$;mul(323,598)&/-'}{&-/<do(), '~>[?-mul(933,97)how()?from();}{+mul(864,562):#<*$>mul(63,747)what()mul(514,\n"
     ]
    }
   ],
   "source": [
    "# Load the input file\n",
    "\n",
    "with open('input - Day 3.txt', 'r') as file:\n",
    "    input = file.read()\n",
    "\n",
    "print(input[:139])"
   ]
  },
  {
   "cell_type": "markdown",
   "metadata": {
    "id": "66omP9mqY42O"
   },
   "source": [
    "## Input Formatting"
   ]
  },
  {
   "cell_type": "markdown",
   "metadata": {},
   "source": [
    "Right now we just have a text file with values from both lists. What we want is two arrays each containing values from only one list. First let us separate each line so that we can later iterate over each line."
   ]
  },
  {
   "cell_type": "code",
   "execution_count": 20,
   "metadata": {
    "executionInfo": {
     "elapsed": 51,
     "status": "ok",
     "timestamp": 1701818133939,
     "user": {
      "displayName": "jaroslaw janas",
      "userId": "03851081589721476818"
     },
     "user_tz": -60
    },
    "id": "znc-2HB50EVq"
   },
   "outputs": [
    {
     "name": "stdout",
     "output_type": "stream",
     "text": [
      "\"(who()where()''~[how()'&do()why()$;mul(323,598)&/-\"\n"
     ]
    }
   ],
   "source": [
    "from pprint import pprint\n",
    "\n",
    "pprint(input[:50])"
   ]
  },
  {
   "cell_type": "markdown",
   "metadata": {},
   "source": [
    "## Solution"
   ]
  },
  {
   "cell_type": "markdown",
   "metadata": {},
   "source": [
    "So this seems rather simple, we just need to construct a proper regex to find all matching `mul(X, Y)` patterns.\n",
    "My question right now is... can the `mul()` be nested?\n",
    "For example `mul(X, mul(X, Y))`. If so then this puzzle has just gotten a bit harder.\n",
    "\n",
    "Anyway, we can use regex to match the `mul()` like so `mul\\(\\d+,\\d+\\)` and if we use **groups**, `mul\\((\\d+),(\\d+)\\)` then we can directly get the number we need to multiply out."
   ]
  },
  {
   "cell_type": "code",
   "execution_count": 21,
   "metadata": {},
   "outputs": [
    {
     "name": "stdout",
     "output_type": "stream",
     "text": [
      "[('323', '598'),\n",
      " ('933', '97'),\n",
      " ('864', '562'),\n",
      " ('63', '747'),\n",
      " ('514', '101'),\n",
      " ('53', '731'),\n",
      " ('899', '858'),\n",
      " ('402', '353'),\n",
      " ('4', '41'),\n",
      " ('505', '942')]\n"
     ]
    }
   ],
   "source": [
    "import re\n",
    "\n",
    "all_muls = re.findall(r\"mul\\((\\d+),(\\d+)\\)\", input)\n",
    "\n",
    "pprint(all_muls[:10])"
   ]
  },
  {
   "cell_type": "code",
   "execution_count": 22,
   "metadata": {},
   "outputs": [],
   "source": [
    "all_products = []\n",
    "\n",
    "for mul in all_muls:\n",
    "\n",
    "    product = int(mul[0]) * int(mul[1])\n",
    "    all_products.append(product)"
   ]
  },
  {
   "cell_type": "code",
   "execution_count": 23,
   "metadata": {},
   "outputs": [
    {
     "name": "stdout",
     "output_type": "stream",
     "text": [
      "The sum of all multiplications is: 185797128\n"
     ]
    }
   ],
   "source": [
    "print(f\"The sum of all multiplications is: {sum(all_products)}\")"
   ]
  },
  {
   "cell_type": "markdown",
   "metadata": {},
   "source": [
    "# Puzzle - Part 2\n"
   ]
  },
  {
   "cell_type": "markdown",
   "metadata": {},
   "source": [
    "**--- Part Two ---**\n",
    "\n",
    "As you scan through the corrupted memory, you notice that some of the conditional statements are also still intact. If you handle some of the uncorrupted conditional statements in the program, you might be able to get an even more accurate result.\n",
    "\n",
    "There are two new instructions you'll need to handle:\n",
    "\n",
    "The `do()` instruction **enables** future `mul` instructions.\n",
    "The `don't()` instruction **disables** future `mul` instructions.\n",
    "Only the most recent `do()` or `don't()` instruction applies. At the beginning of the program, `mul` instructions are **enabled**.\n",
    "\n",
    "For example:\n",
    "\n",
    "`x`**`mul(2,4)`**`&mul[3,7]!^`**`don't()`**`_mul(5,5)+mul(32,64](mul(11,8)un`**`do()`**`?`**`mul(8,5)`**`)`\n",
    "\n",
    "This corrupted memory is similar to the example from before, but this time the `mul(5,5)` and `mul(11,8)` instructions are **disabled** because there is a `don't()` instruction before them. The other mul instructions function normally, including the one at the end that gets re-**enabled** by a `do()` instruction.\n",
    "\n",
    "This time, the sum of the results is `48` `(2*4 + 8*5)`.\n",
    "\n",
    "Handle the new instructions; **what do you get if you add up all of the results of just the enabled multiplications?**"
   ]
  },
  {
   "cell_type": "markdown",
   "metadata": {},
   "source": [
    "______________________________\n",
    "\n",
    "I think this is rather simple, we just need to modify our regex with an **or** that will allow it to also match the `do()` and `don't()`.\n",
    "Then as we iterate through our matches we add a flag that keeps track if `mul()` should be active or not.\n",
    "\n",
    "This looks hard but is actually very easy.\n",
    "The full regex looks like this `mul\\((\\d+),(\\d+)\\)|(do\\(\\))|(don't\\(\\))` but we just added two **ors** `| ( do\\(\\) ) | ( don't\\(\\) )` and wrapped them in groups each."
   ]
  },
  {
   "cell_type": "code",
   "execution_count": 24,
   "metadata": {},
   "outputs": [
    {
     "name": "stdout",
     "output_type": "stream",
     "text": [
      "[('', '', 'do()', ''),\n",
      " ('323', '598', '', ''),\n",
      " ('', '', 'do()', ''),\n",
      " ('933', '97', '', ''),\n",
      " ('864', '562', '', ''),\n",
      " ('63', '747', '', ''),\n",
      " ('514', '101', '', ''),\n",
      " ('', '', 'do()', ''),\n",
      " ('53', '731', '', ''),\n",
      " ('899', '858', '', '')]\n"
     ]
    }
   ],
   "source": [
    "all_matches = re.findall(r\"mul\\((\\d+),(\\d+)\\)|(do\\(\\))|(don't\\(\\))\", input)\n",
    "\n",
    "pprint(all_matches[:10])"
   ]
  },
  {
   "cell_type": "markdown",
   "metadata": {},
   "source": [
    "Do notice that the `do()` always be at index `2` while `don't` will always be at index `3`.\n",
    "And since everything is in order we can just iterate over this."
   ]
  },
  {
   "cell_type": "code",
   "execution_count": 25,
   "metadata": {},
   "outputs": [],
   "source": [
    "multiplication_flag = True # We start with multiplication enabled\n",
    "all_products = []\n",
    "\n",
    "for match in all_matches:\n",
    "\n",
    "    # Let's make it a bit easier\n",
    "    num1 = match[0]\n",
    "    num2 = match[1]\n",
    "    do = match[2]\n",
    "    dont = match[3]\n",
    "\n",
    "    # Remember that empty string evaluate to False, we can just do ifs on them\n",
    "\n",
    "    # If we matched a do() or don't()\n",
    "    if do or dont:\n",
    "        if do:\n",
    "            multiplication_flag = True\n",
    "        else:\n",
    "            multiplication_flag = False\n",
    "        \n",
    "    # If we matched one of the mul()\n",
    "    else:\n",
    "        if multiplication_flag:\n",
    "            product = int(num1) * int(num2)\n",
    "            all_products.append(product)"
   ]
  },
  {
   "cell_type": "code",
   "execution_count": 26,
   "metadata": {},
   "outputs": [
    {
     "name": "stdout",
     "output_type": "stream",
     "text": [
      "The sum of all multiplications is: 89798695\n"
     ]
    }
   ],
   "source": [
    "print(f\"The sum of all multiplications is: {sum(all_products)}\")"
   ]
  }
 ],
 "metadata": {
  "colab": {
   "authorship_tag": "ABX9TyPbu2U8ny7x54mSOJMPB39X",
   "provenance": [],
   "toc_visible": true
  },
  "kernelspec": {
   "display_name": "aoc-2024",
   "language": "python",
   "name": "python3"
  },
  "language_info": {
   "codemirror_mode": {
    "name": "ipython",
    "version": 3
   },
   "file_extension": ".py",
   "mimetype": "text/x-python",
   "name": "python",
   "nbconvert_exporter": "python",
   "pygments_lexer": "ipython3",
   "version": "3.12.8"
  }
 },
 "nbformat": 4,
 "nbformat_minor": 0
}
