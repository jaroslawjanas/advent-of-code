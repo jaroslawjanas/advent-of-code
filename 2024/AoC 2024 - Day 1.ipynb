{
 "cells": [
  {
   "cell_type": "markdown",
   "metadata": {
    "id": "PLPtOMFkVYn7"
   },
   "source": [
    "# Advent of Code 2024"
   ]
  },
  {
   "cell_type": "markdown",
   "metadata": {
    "id": "UaMwBA4kVi4i"
   },
   "source": [
    "# Puzzle - part 1"
   ]
  },
  {
   "cell_type": "markdown",
   "metadata": {
    "id": "-Dzt9c3dVj7Y"
   },
   "source": [
    "**--- Day 1: Historian Hysteria ---**\n",
    "\n",
    "The **Chief Historian** is always present for the big Christmas sleigh launch, but nobody has seen him in months! Last anyone heard, he was visiting locations that are historically significant to the North Pole; a group of Senior Historians has asked you to accompany them as they check the places they think he was most likely to visit.\n",
    "\n",
    "As each location is checked, they will mark it on their list with a *star*. They figure the Chief Historian **must** be in one of the first fifty places they'll look, so in order to save Christmas, you need to help them get *fifty stars* on their list before Santa takes off on December 25th.\n",
    "\n",
    "Collect stars by solving puzzles. Two puzzles will be made available on each day in the Advent calendar; the second puzzle is unlocked when you complete the first. Each puzzle grants *one star*. Good luck!\n",
    "\n",
    "You haven't even left yet and the group of Elvish Senior Historians has already hit a problem: their list of locations to check is currently **empty**. Eventually, someone decides that the best place to check first would be the Chief Historian's office.\n",
    "\n",
    "Upon pouring into the office, everyone confirms that the Chief Historian is indeed nowhere to be found. Instead, the Elves discover an assortment of notes and lists of historically significant locations! This seems to be the planning the Chief Historian was doing before he left. Perhaps these notes can be used to determine which locations to search?\n",
    "\n",
    "Throughout the Chief's office, the historically significant locations are listed not by name but by a unique number called the location ID. To make sure they don't miss anything, The Historians split into two groups, each searching the office and trying to create their own complete list of location IDs.\n",
    "\n",
    "There's just one problem: by holding the two lists up **side by side** (your puzzle input), it quickly becomes clear that the lists aren't very similar. Maybe you can help The Historians reconcile their lists?\n",
    "\n",
    "For example:\n",
    "|   |   |\n",
    "|---|---|\n",
    "| 3 | 4 |\n",
    "| 4 | 3 |\n",
    "| 2 | 5 |\n",
    "| 1 | 3 |\n",
    "| 3 | 9 |\n",
    "| 3 | 3 |\n",
    "\n",
    "Maybe the lists are only off by a small amount! To find out, pair up the numbers and measure how far apart they are. Pair up the **smallest number in the left list** with the **smallest number in the right list**, then the **second-smallest left number** with the **second-smallest right number**, and so on.\n",
    "\n",
    "Within each pair, figure out **how far apart** the two numbers are; you'll need to **add up all of those distances**. For example, if you pair up a 3 from the left list with a 7 from the right list, the distance apart is 4; if you pair up a 9 with a 3, the distance apart is 6.\n",
    "\n",
    "In the example list above, the pairs and distances would be as follows:\n",
    "\n",
    "- The smallest number in the left list is `1`, and the smallest number in the right list is `3`. The distance between them is `2`.\n",
    "- The second-smallest number in the left list is `2`, and the second-smallest number in the right list is another `3`. The distance between them is `1`.\n",
    "- The third-smallest number in both lists is `3`, so the distance between them is `0`.\n",
    "- The next numbers to pair up are `3` and `4`, a distance of `1`.\n",
    "- The fifth-smallest numbers in each list are `3` and `5`, a distance of `2`.\n",
    "- Finally, the largest number in the left list is `4`, while the largest number in the right list is 9; these are a distance `5` apart.\n",
    "\n",
    "To find the total distance between the left list and the right list, add up the distances between all of the pairs you found. In the example above, this is `2 + 1 + 0 + 1 + 2 + 5`, a total distance of `11`!\n",
    "\n",
    "Your actual left and right lists contain many location IDs.\n",
    "**What is the total distance between your lists?**"
   ]
  },
  {
   "cell_type": "markdown",
   "metadata": {
    "id": "RJ_39L89YeMJ"
   },
   "source": [
    "## Input"
   ]
  },
  {
   "cell_type": "code",
   "execution_count": 1,
   "metadata": {
    "colab": {
     "base_uri": "https://localhost:8080/"
    },
    "executionInfo": {
     "elapsed": 58,
     "status": "ok",
     "timestamp": 1701818133939,
     "user": {
      "displayName": "jaroslaw janas",
      "userId": "03851081589721476818"
     },
     "user_tz": -60
    },
    "id": "zj1uuD5IYsOb",
    "outputId": "590d32c7-761b-4ed4-99c6-65368b981d54"
   },
   "outputs": [
    {
     "name": "stdout",
     "output_type": "stream",
     "text": [
      "13432   99527\n",
      "85422   64009\n",
      "79131   11256\n",
      "27674   82211\n",
      "65599   57936\n",
      "12692   67107\n",
      "29421   44641\n",
      "48876   12545\n",
      "62591   59319\n",
      "16202   93012\n"
     ]
    }
   ],
   "source": [
    "# Load the input file\n",
    "\n",
    "with open('input - Day 1.txt', 'r') as file:\n",
    "    input = file.read()\n",
    "\n",
    "\n",
    "print(input[:139])"
   ]
  },
  {
   "cell_type": "markdown",
   "metadata": {
    "id": "66omP9mqY42O"
   },
   "source": [
    "## Input Formatting"
   ]
  },
  {
   "cell_type": "markdown",
   "metadata": {},
   "source": [
    "Right now we just have a text file with values from both lists. What we want is two arrays each containing values from only one list. First let us separate each line so that we can later iterate over each line."
   ]
  },
  {
   "cell_type": "code",
   "execution_count": 2,
   "metadata": {
    "executionInfo": {
     "elapsed": 51,
     "status": "ok",
     "timestamp": 1701818133939,
     "user": {
      "displayName": "jaroslaw janas",
      "userId": "03851081589721476818"
     },
     "user_tz": -60
    },
    "id": "znc-2HB50EVq"
   },
   "outputs": [
    {
     "name": "stdout",
     "output_type": "stream",
     "text": [
      "['13432   99527',\n",
      " '85422   64009',\n",
      " '79131   11256',\n",
      " '27674   82211',\n",
      " '65599   57936',\n",
      " '12692   67107',\n",
      " '29421   44641',\n",
      " '48876   12545',\n",
      " '62591   59319',\n",
      " '16202   93012']\n",
      "\n",
      "There are 1001 lines\n"
     ]
    }
   ],
   "source": [
    "from pprint import pprint\n",
    "\n",
    "input_lines = input.split('\\n')\n",
    "pprint(input_lines[:10])\n",
    "\n",
    "print(f\"\\nThere are {len(input_lines)} lines\")"
   ]
  },
  {
   "cell_type": "markdown",
   "metadata": {},
   "source": [
    "Okay so now we can iterate over each line, but there is still a problem.\n",
    "Each line consits valuew from both lists.\n",
    "\n",
    "To separate them we can iterate over all lines and use **regex** to split each line by white space.\n",
    "The reason why I am using **regex** here is that while the whitespace (the gap) between numbers in each line seems consistend I do not know that this is 100% the case for every single one of them. \n",
    "I could just use `.split(\"   \")` and then check if lengths of each list match with the length of `input_lines` but using **regex** is simpler and cleaner"
   ]
  },
  {
   "cell_type": "code",
   "execution_count": 3,
   "metadata": {},
   "outputs": [
    {
     "name": "stdout",
     "output_type": "stream",
     "text": [
      "''\n",
      "1000\n"
     ]
    }
   ],
   "source": [
    "# First let's check the last line, if it's just \\n then let's remove it\n",
    "pprint(input_lines[-1])\n",
    "\n",
    "del input_lines[-1]\n",
    "\n",
    "print(len(input_lines))"
   ]
  },
  {
   "cell_type": "code",
   "execution_count": 4,
   "metadata": {},
   "outputs": [],
   "source": [
    "import re\n",
    "\n",
    "id_list_1 = []\n",
    "id_list_2 = []\n",
    "\n",
    "for line in input_lines:\n",
    "    ids = re.split(r\"\\s+\", line)    \n",
    "\n",
    "    id_list_1.append(ids[0])\n",
    "    id_list_2.append(ids[1])\n",
    "    "
   ]
  },
  {
   "cell_type": "markdown",
   "metadata": {},
   "source": [
    "Let's check lengths to make sure we didn't lose anything."
   ]
  },
  {
   "cell_type": "code",
   "execution_count": 14,
   "metadata": {},
   "outputs": [],
   "source": [
    "assert len(id_list_1) == len(id_list_2),\\\n",
    "    f\"The two lits are not of the same length: {len(id_list_1)} and {len(id_list_2)}\"\n",
    "\n",
    "assert len(id_list_1) == len(input_lines),\\\n",
    "    f\"The lists are not of same length ({len(id_list_1)}) as the input ({len(input_lines)})\""
   ]
  },
  {
   "cell_type": "markdown",
   "metadata": {},
   "source": [
    "Okay so far so good.\n",
    "Now we have two separate arrays/lists of... lists (I'll call them ID lists from now on).\n",
    "Since we want to compare the smallest digit from each list and then the second smallest and so on let's sort them.\n",
    "This way when we iterate over them we will always get the two **i-th** smallest values from each list.\n",
    "Then all that's left is to calculate the distance between them.\n",
    "\n",
    "Okay first let's convert the lists two numbers.\n",
    "Could do everything in a single loop but why over-complicate this?"
   ]
  },
  {
   "cell_type": "code",
   "execution_count": 8,
   "metadata": {},
   "outputs": [],
   "source": [
    "id_list_1 = [int(id) for id in id_list_1]\n",
    "id_list_2 = [int(id) for id in id_list_2]"
   ]
  },
  {
   "cell_type": "code",
   "execution_count": 10,
   "metadata": {},
   "outputs": [
    {
     "name": "stdout",
     "output_type": "stream",
     "text": [
      "[10025, 10093, 10108, 10244, 10344, 10350, 10384, 10482, 10554, 10574]\n",
      "[10038, 10217, 10231, 10264, 10370, 10384, 10384, 10384, 10384, 10384]\n"
     ]
    }
   ],
   "source": [
    "id_list_1.sort()\n",
    "id_list_2.sort()\n",
    "\n",
    "pprint(id_list_1[:10])\n",
    "pprint(id_list_2[:10])"
   ]
  },
  {
   "cell_type": "code",
   "execution_count": 12,
   "metadata": {},
   "outputs": [],
   "source": [
    "distance_between_ids = []\n",
    "\n",
    "for id_1, id_2 in zip(id_list_1, id_list_2):\n",
    "    \n",
    "    # I assume we want only positive distances hence abs()\n",
    "    gap = abs(id_1 - id_2)\n",
    "    distance_between_ids.append(gap)"
   ]
  },
  {
   "cell_type": "markdown",
   "metadata": {},
   "source": [
    "Now we just sum all the distances / gaps. "
   ]
  },
  {
   "cell_type": "code",
   "execution_count": 13,
   "metadata": {},
   "outputs": [
    {
     "name": "stdout",
     "output_type": "stream",
     "text": [
      "The total distance is: 1765812\n"
     ]
    }
   ],
   "source": [
    "print(f\"The total distance is: {sum(distance_between_ids)}\")"
   ]
  },
  {
   "cell_type": "markdown",
   "metadata": {},
   "source": [
    "# Puzzle - part 2"
   ]
  },
  {
   "cell_type": "markdown",
   "metadata": {},
   "source": [
    "**--- Part Two ---**\n",
    "\n",
    "Your analysis only confirmed what everyone feared: the two lists of location IDs are indeed very different.\n",
    "\n",
    "Or are they?\n",
    "\n",
    "The Historians can't agree on which group made the mistakes **or** how to read most of the Chief's handwriting, but in the commotion you notice an interesting detail: a lot of location IDs appear in both lists! Maybe the other numbers aren't location IDs at all but rather misinterpreted handwriting.\n",
    "\n",
    "This time, you'll need to figure out exactly how often each number from the left list appears in the right list. Calculate a total **similarity score** by adding up each number in the left list after multiplying it by the number of times that number appears in the right list.\n",
    "\n",
    "Here are the same example lists again:\n",
    "\n",
    "|   |   |\n",
    "|---|---|\n",
    "| 3 | 4 |\n",
    "| 4 | 3 |\n",
    "| 2 | 5 |\n",
    "| 1 | 3 |\n",
    "| 3 | 9 |\n",
    "| 3 | 3 |\n",
    "\n",
    "For these example lists, here is the process of finding the similarity score:\n",
    "\n",
    "The first number in the left list is `3`. It appears in the right list three times, so the similarity score increases by `3 * 3 = 9`.\n",
    "The second number in the left list is `4`. It appears in the right list once, so the similarity score increases by `4 * 1 = 4`.\n",
    "The third number in the left list is `2`. It does not appear in the right list, so the similarity score does not increase `(2 * 0 = 0)`.\n",
    "The fourth number, `1`, also does not appear in the right list.\n",
    "The fifth number, `3`, appears in the right list three times; the similarity score increases by `9`.\n",
    "The last number, `3`, appears in the right list three times; the similarity score again increases by `9`.\n",
    "So, for these example lists, the similarity score at the end of this process is **`31`** `(9 + 4 + 0 + 0 + 9 + 9)`.\n",
    "\n",
    "Once again consider your left and right lists. What is their similarity score?"
   ]
  },
  {
   "cell_type": "markdown",
   "metadata": {},
   "source": [
    "______________________________\n",
    "\n",
    "Okay so we still have our `id_list_1` and `id_list_2`.\n",
    "They are sorted, which doesn't help us, but they are already numbers so let's re-use them.\n",
    "\n",
    "There are two ways to solve this really, a **good one** and a **bad one**.\n",
    "The **bad one** is we do a loop over `id_list_1` and then we nest another loop over `id_list_2`, checking every value in the first list with all values of the second list. Obviosly this is not great as it has a complexity of **O(n^2)** - not good at all.\n",
    "\n",
    "We can be clever about this, what we actually want to know is the frequency of each number in `id_list_2`. Then while iterating over `id_list_1` we can check the frequency of a particular `id`. Multiply it out, add it up and boom... you have your total similarity score, and all the the low cost of **O(2n)**"
   ]
  },
  {
   "cell_type": "code",
   "execution_count": 19,
   "metadata": {},
   "outputs": [],
   "source": [
    "from collections import defaultdict \n",
    "\n",
    "# This will automatically initialize missing keys with 0\n",
    "frequencies = defaultdict(int)\n",
    "\n",
    "# Calculate frequencies of numbers in id_list_2\n",
    "for id in id_list_2:\n",
    "    frequencies[id] += 1"
   ]
  },
  {
   "cell_type": "markdown",
   "metadata": {},
   "source": [
    "Let's check how we did. I only want the to see `10` elements though."
   ]
  },
  {
   "cell_type": "code",
   "execution_count": 27,
   "metadata": {},
   "outputs": [
    {
     "name": "stdout",
     "output_type": "stream",
     "text": [
      "10038:  1\n",
      "10217:  1\n",
      "10231:  1\n",
      "10264:  1\n",
      "10370:  1\n",
      "10384:  10\n",
      "10568:  1\n",
      "10610:  1\n",
      "10641:  1\n",
      "10789:  1\n",
      "10828:  1\n",
      "10875:  1\n"
     ]
    }
   ],
   "source": [
    "for idx, (key, value) in enumerate(frequencies.items()):\n",
    "    print(f\"{key}:  {value}\")\n",
    "\n",
    "    if idx>10:\n",
    "        break\n",
    "    "
   ]
  },
  {
   "cell_type": "markdown",
   "metadata": {},
   "source": [
    "Perfect now we just need to select those frequencies whose numbers (keys) also show up in `id_list_1`.\n",
    "While we are at it we might as do the multiplication and add it up for the final answer.\n",
    "\n",
    "No need to worry about missing keys exception since we are using `defaultdict(ing)` - it will automatically initialize missing values to `0`."
   ]
  },
  {
   "cell_type": "code",
   "execution_count": 31,
   "metadata": {},
   "outputs": [
    {
     "name": "stdout",
     "output_type": "stream",
     "text": [
      "Total similarity score: 20520794\n"
     ]
    }
   ],
   "source": [
    "total_similarity_score = 0\n",
    "\n",
    "for id in id_list_1:\n",
    "\n",
    "    similarity = id * frequencies[id]\n",
    "    total_similarity_score += similarity\n",
    "\n",
    "print(f\"Total similarity score: {total_similarity_score}\")"
   ]
  }
 ],
 "metadata": {
  "colab": {
   "authorship_tag": "ABX9TyPbu2U8ny7x54mSOJMPB39X",
   "provenance": [],
   "toc_visible": true
  },
  "kernelspec": {
   "display_name": "aoc-2024",
   "language": "python",
   "name": "python3"
  },
  "language_info": {
   "codemirror_mode": {
    "name": "ipython",
    "version": 3
   },
   "file_extension": ".py",
   "mimetype": "text/x-python",
   "name": "python",
   "nbconvert_exporter": "python",
   "pygments_lexer": "ipython3",
   "version": "3.12.8"
  }
 },
 "nbformat": 4,
 "nbformat_minor": 0
}
