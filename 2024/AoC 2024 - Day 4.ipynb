{
 "cells": [
  {
   "cell_type": "markdown",
   "metadata": {
    "id": "PLPtOMFkVYn7"
   },
   "source": [
    "# Advent of Code 2024"
   ]
  },
  {
   "cell_type": "markdown",
   "metadata": {
    "id": "UaMwBA4kVi4i"
   },
   "source": [
    "# Puzzle - part 1"
   ]
  },
  {
   "cell_type": "markdown",
   "metadata": {
    "id": "-Dzt9c3dVj7Y"
   },
   "source": [
    "**--- Day 4: Ceres Search ---**\n",
    "\n",
    "\"Looks like the Chief's not here. Next!\" One of The Historians pulls out a device and pushes the only button on it. After a brief flash, you recognize the interior of the *Ceres monitoring station*!\n",
    "\n",
    "As the search for the Chief continues, a small Elf who lives on the station tugs on your shirt; she'd like to know if you could help her with her **word search** (your puzzle input). She only has to find one word: XMAS.\n",
    "\n",
    "This word search allows words to be horizontal, vertical, diagonal, written backwards, or even overlapping other words. It's a little unusual, though, as you don't merely need to find one instance of `XMAS` - you need to find **all of them**. Here are a few ways `XMAS` might appear, where irrelevant characters have been replaced with `.`:\n",
    "\n",
    "```\n",
    "..X...\n",
    ".SAMX.\n",
    ".A..A.\n",
    "XMAS.S\n",
    ".X....\n",
    "```\n",
    "\n",
    "The actual word search will be full of letters instead. For example:\n",
    "\n",
    "```\n",
    "MMMSXXMASM\n",
    "MSAMXMSMSA\n",
    "AMXSXMAAMM\n",
    "MSAMASMSMX\n",
    "XMASAMXAMM\n",
    "XXAMMXXAMA\n",
    "SMSMSASXSS\n",
    "SAXAMASAAA\n",
    "MAMMMXMMMM\n",
    "MXMXAXMASX\n",
    "```\n",
    "\n",
    "In this word search, `XMAS` occurs a total of `18` times; here's the same word search again, but where letters not involved in any `XMAS` have been replaced with `.`:\n",
    "\n",
    "```\n",
    "....XXMAS.\n",
    ".SAMXMS...\n",
    "...S..A...\n",
    "..A.A.MS.X\n",
    "XMASAMX.MM\n",
    "X.....XA.A\n",
    "S.S.S.S.SS\n",
    ".A.A.A.A.A\n",
    "..M.M.M.MM\n",
    ".X.X.XMASX\n",
    "```\n",
    "\n",
    "Take a look at the little Elf's word search.\n",
    "**How many times does XMAS appear?**"
   ]
  },
  {
   "cell_type": "markdown",
   "metadata": {
    "id": "RJ_39L89YeMJ"
   },
   "source": [
    "## Input"
   ]
  },
  {
   "cell_type": "code",
   "execution_count": 127,
   "metadata": {
    "colab": {
     "base_uri": "https://localhost:8080/"
    },
    "executionInfo": {
     "elapsed": 58,
     "status": "ok",
     "timestamp": 1701818133939,
     "user": {
      "displayName": "jaroslaw janas",
      "userId": "03851081589721476818"
     },
     "user_tz": -60
    },
    "id": "zj1uuD5IYsOb",
    "outputId": "590d32c7-761b-4ed4-99c6-65368b981d54"
   },
   "outputs": [
    {
     "name": "stdout",
     "output_type": "stream",
     "text": [
      "XMMMSMMXMS\n"
     ]
    }
   ],
   "source": [
    "# Load the input file\n",
    "\n",
    "with open('input - Day 4.txt', 'r') as file:\n",
    "    input = file.read()\n",
    "\n",
    "\n",
    "print(input[:10])"
   ]
  },
  {
   "cell_type": "markdown",
   "metadata": {
    "id": "66omP9mqY42O"
   },
   "source": [
    "## Input Formatting"
   ]
  },
  {
   "cell_type": "markdown",
   "metadata": {},
   "source": [
    "This is pretty much standard, we just split the one big input into lines."
   ]
  },
  {
   "cell_type": "code",
   "execution_count": 128,
   "metadata": {
    "executionInfo": {
     "elapsed": 51,
     "status": "ok",
     "timestamp": 1701818133939,
     "user": {
      "displayName": "jaroslaw janas",
      "userId": "03851081589721476818"
     },
     "user_tz": -60
    },
    "id": "znc-2HB50EVq"
   },
   "outputs": [
    {
     "name": "stdout",
     "output_type": "stream",
     "text": [
      "['XMMMSMMXMSXMXMAXSMMAXXXXSXXASXSASAMSXMAXAAMSMMMSXSAMXMMXMASMMMSXMXSAMXSASAMXXXXMMMMMMXMXSMXSMSMSMSXSSXSMSSMSAMMXXSAMXMXMXSMSMMASMXMAASMSMMMM',\n",
      " 'MSMXAASXMSASAAAXSASMSAMXMMMXAAMMMASMMXSXMXSAMAAMXSMMASXSSXMAAAAAMAMAXASAXMMSMMMXSAAASMMAMSAMASAAASXMAMAAAAXMAMAASAMSAMXMAAMAMAASMMMSXMAAMAAM',\n",
      " 'AAMMXXMXASAMXSSMSAMAXAMMSAXMMSMSSXMXSAXASXSASMXMAXASMMSAAASXMSSMMASMMMMMMAAAAXXAXMXMXAMAXMMSAMSMXMAXMXMMMSMSAMMXSAASASMMAXSASMMXAAAMMMSMSMXX',\n",
      " 'SSSSXASMMMSMAXXAMXMXMXMASXSAAAAXMXXXMASAMMSAMASMMSAMAXXMSMMMMAMASAXAAXASAMXSSMMMSMSSSMMSSMXMAXMMSSMMXMMAMAASXSXMSMMSAMXSAXAMMASXMMMSAXAAAASX',\n",
      " 'XAAMAMXAAAAMXMMMAAMAAAMMSXXMSSSMMSMAMAMAMAMXMAMAMAMMXMSXXMASMAXAMXSXMXMXXSAMAMAAAAAAXXAAAXXMMMMAAAAMMXSASMXMXMMMXMAMMMAMXSMAXAMAAMASXSMSXMAA',\n",
      " 'MMMMAXSMMSSMSXAASXSASXSMMASAAAAMAAAMMMSXMXMAMXSAMSASAMXAXSMMSSMMXMAXMSMMAMXMAASXMSMMMMXSAMSMSMMMSXXMAASXXXAXAAAMAMSSMMXSASXSMAXMMMAXAXAMMSMA',\n",
      " 'MXSSMMMSMMMAAMMMXAMXMXAAXAMMMSMMSMSXAXMAMAMASASASAASMAMSMSMAAMAXXMAXMAMMSSMSSXMMAXXXAAAXAASASMAAXASMMMSXMXMSMSMMASMXMAAMMSAXSAMSMMXSSMXMASXX',\n",
      " 'MAMAMMAAXSMSMSASXSAMMSSMMXSXAAXMAXAMXXSMMSSMMXMXMMMMMAXMAXMMSSMASMMXMASXAAAAMAMMSAMSMSMMMMMXMMMMMXMASAMXAMXMAAXSMXMASMMSAMAMMXXXASMAXMASXSSM',\n",
      " 'MXSSMMSMXSAAASASMMAMAAAAXXXAMMMMSASXMXAMAXAXXSMSXSMASMSMAMXMAAXAMASASAMMSMMMMXMAXAMXXXXAXMXMSXSXSXSXMASAMSSSXMXAAXAMXAXMXMMMSSMSAMMMMMMMAMAM',\n",
      " 'SMMMXMAMXXMMXMAMMSAMMSXMSMSMMXAAAMXAXSAMMMSMMMAAAXMAXAAMAMAMMSMXSAMMMASAXAXXXAMAMAMMMSSSMSAMSSMASAASMXMXMXMASXSMMSMMMSMAAXMAXAAMAXASAXXMASAM']\n",
      "\n",
      "There are 141 lines\n"
     ]
    }
   ],
   "source": [
    "from pprint import pprint\n",
    "\n",
    "input_lines = input.split('\\n')\n",
    "pprint(input_lines[:10])\n",
    "\n",
    "print(f\"\\nThere are {len(input_lines)} lines\")"
   ]
  },
  {
   "cell_type": "code",
   "execution_count": 129,
   "metadata": {},
   "outputs": [
    {
     "name": "stdout",
     "output_type": "stream",
     "text": [
      "140\n"
     ]
    }
   ],
   "source": [
    "# Check the last line, if it's empty then let's remove it\n",
    "if input_lines[-1] == \"\":\n",
    "    del input_lines[-1]\n",
    "\n",
    "print(len(input_lines))"
   ]
  },
  {
   "cell_type": "markdown",
   "metadata": {},
   "source": [
    "## Solution"
   ]
  },
  {
   "cell_type": "markdown",
   "metadata": {},
   "source": [
    "So here is what I am thinking... how about we make this data into a grid format, where each character is a cell in a grid.\n",
    "Then we iterate over that grid and everytime we \"step\" on an `X` we check in all directions for `M` then `A` and then `S`.\n",
    "\n",
    "This will also give us a resonable complexity of **O(24n)** (6 directions \\* 4 letters). Look... at least it's linear, okay?"
   ]
  },
  {
   "cell_type": "code",
   "execution_count": 130,
   "metadata": {},
   "outputs": [],
   "source": [
    "# Making a class sounds fun, let's do that\n",
    "# It's not the fastest way to do this but I want to do a class\n",
    "# It will make our lives easier later, probably...\n",
    "\n",
    "class Grid:\n",
    "    def __init__(self, lines):\n",
    "\n",
    "        self.grid = []\n",
    "\n",
    "        # (0, 0) is top left corner\n",
    "        self.current_x = 0 \n",
    "        self.current_y = 0\n",
    "\n",
    "        # These are for exploring\n",
    "        self.delta_x = 0\n",
    "        self.delta_y = 0 \n",
    "\n",
    "        self.x_dimension= len(lines[0])\n",
    "        self.y_dimension = len(lines)\n",
    "\n",
    "        for line in lines:\n",
    "            row = []\n",
    "            for char in line:\n",
    "                row.append(char)\n",
    "            self.grid.append(row)\n",
    "\n",
    "    # Cool, let's make it iterable\n",
    "    def __iter__(self):\n",
    "        for y, row in enumerate(self.grid):\n",
    "\n",
    "            # Remember rows correspond to Ys\n",
    "            self.current_y = y\n",
    "            for x, col in enumerate(row):\n",
    "                \n",
    "                # and columns correspond to Xs (in the co-ordinate system)\n",
    "                self.current_x = x\n",
    "                yield col\n",
    "\n",
    "    # Now we want to be able to explore in any direction\n",
    "    # Notice that this is different that _iter_ it doesn't actually move\n",
    "    # the reference point\n",
    "\n",
    "    # Explore resetes the delta and brings us back to the reference co-ordinates\n",
    "    def explore(self):\n",
    "        self.delta_x = 0\n",
    "        self.delta_y = 0 \n",
    "        return self\n",
    "    \n",
    "    def up(self):\n",
    "        self.delta_y -= 1\n",
    "        return self\n",
    "\n",
    "    def down(self):\n",
    "        self.delta_y += 1\n",
    "        return self\n",
    "\n",
    "    def left(self):\n",
    "        self.delta_x -= 1\n",
    "        return self\n",
    "\n",
    "    def right(self):\n",
    "        self.delta_x += 1\n",
    "        return self\n",
    "    \n",
    "    def move(self, direction:str):\n",
    "        if direction == \"up\":\n",
    "            return self.up()\n",
    "\n",
    "        elif direction == \"diag_up_right\":\n",
    "            return self.up().right()\n",
    "        \n",
    "        elif direction == \"right\":\n",
    "            return self.right()        \n",
    "\n",
    "        elif direction == \"diag_down_right\":\n",
    "            return self.down().right()       \n",
    "\n",
    "        elif direction == \"down\":\n",
    "            return self.down()       \n",
    "\n",
    "        elif direction == \"diag_down_left\":\n",
    "            return self.down().left()       \n",
    "\n",
    "        elif direction == \"left\":\n",
    "            return self.left()\n",
    "    \n",
    "        elif direction == \"diag_up_left\":\n",
    "            return self.up().left()\n",
    "        \n",
    "        else:\n",
    "            raise NotImplemented\n",
    "        \n",
    "    def cords(self):\n",
    "        effective_x = self.current_x + self.delta_x\n",
    "        effective_y = self.current_y + self.delta_y\n",
    "\n",
    "        # If we are outside the grid just return False\n",
    "        if effective_x < 0 or effective_y < 0 or effective_x >= self.x_dimension or effective_y >= self.y_dimension:\n",
    "            return False\n",
    "\n",
    "        return effective_x, effective_y\n",
    "    \n",
    "    def value(self):\n",
    "        cords = self.cords()\n",
    "\n",
    "        # Need to handle the return False case\n",
    "        if cords == False:\n",
    "            return False\n",
    "\n",
    "        effective_x, effective_y = cords\n",
    "\n",
    "        return self.grid[effective_y][effective_x]\n"
   ]
  },
  {
   "cell_type": "code",
   "execution_count": 131,
   "metadata": {},
   "outputs": [],
   "source": [
    "# X -> M -> A -> S\n",
    "\n",
    "#     _________________\n",
    "#    |__8__|__1__|__2__|\n",
    "#    |__7__|__X__|__3__|\n",
    "#    |__6__|__5__|__4__|\n",
    "\n",
    "grid = Grid(input_lines)\n",
    "\n",
    "count_matches = 0\n",
    "# matches = []\n",
    "\n",
    "for x in grid:\n",
    "    directions = [\n",
    "        \"up\",\n",
    "        \"diag_up_right\",\n",
    "        \"right\",\n",
    "        \"diag_down_right\",\n",
    "        \"down\",\n",
    "        \"diag_down_left\",\n",
    "        \"left\",\n",
    "        \"diag_up_left\"\n",
    "    ]\n",
    "\n",
    "    if x == \"X\":\n",
    "        next_letter = ['M', \"A\", \"S\"] \n",
    "\n",
    "        for direction in directions:\n",
    "            # match = [[grid.cords(), \"X\"]]\n",
    "            grid.explore()\n",
    "\n",
    "            for expected_letter in next_letter:\n",
    "                found_letter = grid.move(direction).value()\n",
    "\n",
    "                if not found_letter or found_letter != expected_letter:\n",
    "                    break\n",
    "                \n",
    "                if found_letter == expected_letter and expected_letter == \"S\":\n",
    "                    # matches.append(match)\n",
    "                    count_matches += 1\n"
   ]
  },
  {
   "cell_type": "code",
   "execution_count": 132,
   "metadata": {},
   "outputs": [
    {
     "name": "stdout",
     "output_type": "stream",
     "text": [
      "Found matches of XMAS: 2297\n"
     ]
    }
   ],
   "source": [
    "print(f\"Found matches of XMAS: {count_matches}\")\n",
    "\n",
    "# pprint(matches)"
   ]
  },
  {
   "cell_type": "markdown",
   "metadata": {},
   "source": [
    "# Puzzle - Part 2\n"
   ]
  },
  {
   "cell_type": "markdown",
   "metadata": {},
   "source": [
    "**--- Part Two ---**\n",
    "\n",
    "The Elf looks quizzically at you. Did you misunderstand the assignment?\n",
    "\n",
    "Looking for the instructions, you flip over the word search to find that this isn't actually an **`XMAS`** puzzle; it's an **`X-MAS`** puzzle in which you're supposed to find two `MAS` in the shape of an `X`. One way to achieve that is like this:\n",
    "\n",
    "```\n",
    "M.S\n",
    ".A.\n",
    "M.S\n",
    "```\n",
    "\n",
    "Irrelevant characters have again been replaced with `.` in the above diagram. Within the `X`, each `MAS` can be written forwards or backwards.\n",
    "\n",
    "Here's the same example from before, but this time all of the `X-MAS`es have been kept instead:\n",
    "\n",
    "```\n",
    ".M.S......\n",
    "..A..MSMS.\n",
    ".M.S.MAA..\n",
    "..A.ASMSM.\n",
    ".M.S.M....\n",
    "..........\n",
    "S.S.S.S.S.\n",
    ".A.A.A.A..\n",
    "M.M.M.M.M.\n",
    "..........\n",
    "```\n",
    "\n",
    "In this example, `an X-MAS` appears **`9`** times.\n",
    "\n",
    "Flip the word search from the instructions back over to the word search side and try again.\n",
    "**How many times does an `X-MAS` appear?**"
   ]
  },
  {
   "cell_type": "markdown",
   "metadata": {},
   "source": [
    "## Solution"
   ]
  },
  {
   "cell_type": "markdown",
   "metadata": {},
   "source": [
    "This is just a variation of what we did above.\n",
    "Instead of looking for `X`s we will look for `A`s and then check in four diagonal directions for letters.\n",
    "\n",
    "We just have to be careful since on one cross-through diagonal (e.g from top right to bottom left) we can either match `M``S` or `S``M`."
   ]
  },
  {
   "cell_type": "code",
   "execution_count": 133,
   "metadata": {},
   "outputs": [],
   "source": [
    "# X -> M -> A -> S\n",
    "\n",
    "#     _________________\n",
    "#    |__1__|_____|__1__|\n",
    "#    |_____|__A__|_____|\n",
    "#    |__3__|_____|__3__|\n",
    "\n",
    "grid = Grid(input_lines)\n",
    "\n",
    "count_matches = 0\n",
    "# matches = []\n",
    "\n",
    "for a in grid:\n",
    "    counted_diags = 0\n",
    "\n",
    "    diag_directions = [\n",
    "        [\n",
    "            \"diag_up_right\",\n",
    "            \"diag_down_left\"\n",
    "        ],\n",
    "        [\n",
    "            \"diag_up_left\",\n",
    "            \"diag_down_right\"\n",
    "        ]\n",
    "\n",
    "    ]\n",
    "\n",
    "    if a == \"A\":\n",
    "        possible_combinations = [['M', \"S\"], [\"S\", \"M\"]]\n",
    "\n",
    "        for diag_1, diag_3 in diag_directions:\n",
    "            letter_1 = grid.explore().move(diag_1).value()\n",
    "            letter_3 = grid.explore().move(diag_3).value()\n",
    "\n",
    "            for letter_set in possible_combinations:\n",
    "                expected_l_1, expected_l_3 = letter_set\n",
    "\n",
    "                if expected_l_1 == letter_1 and expected_l_3 == letter_3:\n",
    "                    counted_diags += 1\n",
    "                    break\n",
    "\n",
    "    if counted_diags == 2:\n",
    "        count_matches += 1"
   ]
  },
  {
   "cell_type": "code",
   "execution_count": 134,
   "metadata": {},
   "outputs": [
    {
     "name": "stdout",
     "output_type": "stream",
     "text": [
      "Found diagonal matches XMAS: 1745\n"
     ]
    }
   ],
   "source": [
    "print(f\"Found diagonal matches XMAS: {count_matches}\")"
   ]
  }
 ],
 "metadata": {
  "colab": {
   "authorship_tag": "ABX9TyPbu2U8ny7x54mSOJMPB39X",
   "provenance": [],
   "toc_visible": true
  },
  "kernelspec": {
   "display_name": "aoc-2024",
   "language": "python",
   "name": "python3"
  },
  "language_info": {
   "codemirror_mode": {
    "name": "ipython",
    "version": 3
   },
   "file_extension": ".py",
   "mimetype": "text/x-python",
   "name": "python",
   "nbconvert_exporter": "python",
   "pygments_lexer": "ipython3",
   "version": "3.12.8"
  }
 },
 "nbformat": 4,
 "nbformat_minor": 0
}
